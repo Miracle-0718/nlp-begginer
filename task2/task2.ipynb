{
 "cells": [
  {
   "cell_type": "code",
   "execution_count": 1,
   "metadata": {},
   "outputs": [],
   "source": [
    "import numpy as np\n",
    "import pandas as pd"
   ]
  },
  {
   "cell_type": "code",
   "execution_count": 2,
   "metadata": {},
   "outputs": [],
   "source": [
    "from sklearn.model_selection import train_test_split"
   ]
  },
  {
   "cell_type": "markdown",
   "metadata": {},
   "source": [
    "## 读取数据"
   ]
  },
  {
   "cell_type": "code",
   "execution_count": 3,
   "metadata": {},
   "outputs": [
    {
     "data": {
      "text/html": [
       "<div>\n",
       "<style scoped>\n",
       "    .dataframe tbody tr th:only-of-type {\n",
       "        vertical-align: middle;\n",
       "    }\n",
       "\n",
       "    .dataframe tbody tr th {\n",
       "        vertical-align: top;\n",
       "    }\n",
       "\n",
       "    .dataframe thead th {\n",
       "        text-align: right;\n",
       "    }\n",
       "</style>\n",
       "<table border=\"1\" class=\"dataframe\">\n",
       "  <thead>\n",
       "    <tr style=\"text-align: right;\">\n",
       "      <th></th>\n",
       "      <th>PhraseId</th>\n",
       "      <th>SentenceId</th>\n",
       "      <th>Phrase</th>\n",
       "      <th>Sentiment</th>\n",
       "    </tr>\n",
       "  </thead>\n",
       "  <tbody>\n",
       "    <tr>\n",
       "      <th>0</th>\n",
       "      <td>1</td>\n",
       "      <td>1</td>\n",
       "      <td>A series of escapades demonstrating the adage ...</td>\n",
       "      <td>1</td>\n",
       "    </tr>\n",
       "    <tr>\n",
       "      <th>1</th>\n",
       "      <td>2</td>\n",
       "      <td>1</td>\n",
       "      <td>A series of escapades demonstrating the adage ...</td>\n",
       "      <td>2</td>\n",
       "    </tr>\n",
       "    <tr>\n",
       "      <th>2</th>\n",
       "      <td>3</td>\n",
       "      <td>1</td>\n",
       "      <td>A series</td>\n",
       "      <td>2</td>\n",
       "    </tr>\n",
       "    <tr>\n",
       "      <th>3</th>\n",
       "      <td>4</td>\n",
       "      <td>1</td>\n",
       "      <td>A</td>\n",
       "      <td>2</td>\n",
       "    </tr>\n",
       "    <tr>\n",
       "      <th>4</th>\n",
       "      <td>5</td>\n",
       "      <td>1</td>\n",
       "      <td>series</td>\n",
       "      <td>2</td>\n",
       "    </tr>\n",
       "  </tbody>\n",
       "</table>\n",
       "</div>"
      ],
      "text/plain": [
       "   PhraseId  SentenceId                                             Phrase  \\\n",
       "0         1           1  A series of escapades demonstrating the adage ...   \n",
       "1         2           1  A series of escapades demonstrating the adage ...   \n",
       "2         3           1                                           A series   \n",
       "3         4           1                                                  A   \n",
       "4         5           1                                             series   \n",
       "\n",
       "   Sentiment  \n",
       "0          1  \n",
       "1          2  \n",
       "2          2  \n",
       "3          2  \n",
       "4          2  "
      ]
     },
     "execution_count": 3,
     "metadata": {},
     "output_type": "execute_result"
    }
   ],
   "source": [
    "train_df = pd.read_csv('../data/train.tsv', sep='\\t')\n",
    "train_df.head()"
   ]
  },
  {
   "cell_type": "code",
   "execution_count": 4,
   "metadata": {},
   "outputs": [],
   "source": [
    "X_data,y_data = train_df[\"Phrase\"].values, train_df[\"Sentiment\"].values"
   ]
  },
  {
   "cell_type": "code",
   "execution_count": 5,
   "metadata": {},
   "outputs": [],
   "source": [
    "test = 5000\n",
    "X_data=X_data[:test]\n",
    "y_data=y_data[:test]"
   ]
  },
  {
   "cell_type": "markdown",
   "metadata": {},
   "source": [
    "## 数据预处理\n",
    "### 划分训练测试集"
   ]
  },
  {
   "cell_type": "code",
   "execution_count": 6,
   "metadata": {},
   "outputs": [],
   "source": [
    "def data_len_sort(X,y):\n",
    "    '''将训练集按照句子长度升序排序，避免每一个batch内句子长短不一，padding过度'''\n",
    "    X = np.array(X).reshape(-1,1)\n",
    "    y = np.array(y).reshape(-1,1)\n",
    "    all_data = list(np.hstack((X,y)))\n",
    "    all_data.sort(key=lambda x:len(x[0].split())) # 按照句子长度升序排序\n",
    "    X_sort,y_sort = [item[0] for item in all_data],[item[1] for item in all_data]\n",
    "    return X_sort,y_sort\n",
    "\n",
    "def data_split_and_sort(X,y,test_size=0.2,sorted=True):\n",
    "    '''划分数据集\n",
    "    Parameters:\n",
    "        X,y - data,label\n",
    "        test_size - test data percentage\n",
    "        sorted  - if sort data after split to avoid padding too much\n",
    "    return:\n",
    "        X_train, X_test, y_train, y_test\n",
    "    '''\n",
    "    X_train, X_test, y_train, y_test = train_test_split(X,y, test_size=test_size, random_state=42, stratify=y)\n",
    "    if sorted :\n",
    "        X_train, y_train = data_len_sort(X_train,y_train)\n",
    "        X_test, y_test = data_len_sort(X_test,y_test)\n",
    "    return X_train, X_test, y_train, y_test"
   ]
  },
  {
   "cell_type": "code",
   "execution_count": 7,
   "metadata": {},
   "outputs": [],
   "source": [
    "X_train, X_test, y_train, y_test = data_split_and_sort(X_data,y_data)"
   ]
  },
  {
   "cell_type": "markdown",
   "metadata": {},
   "source": [
    "### 数据初始化 & 自定义dataloader"
   ]
  },
  {
   "cell_type": "code",
   "execution_count": 8,
   "metadata": {},
   "outputs": [],
   "source": [
    "batch_size = 10"
   ]
  },
  {
   "cell_type": "markdown",
   "metadata": {},
   "source": [
    "- 将数据库中的所有单词提取出来建立词表\n",
    "- 句子转换为对应单词id所组成的序列（长度不同\n",
    "- 序列作为模型输入，在数据加载阶段会进行padding以统一长度"
   ]
  },
  {
   "cell_type": "code",
   "execution_count": 9,
   "metadata": {},
   "outputs": [],
   "source": [
    "from dataprocessing import Data_init,dataloader"
   ]
  },
  {
   "cell_type": "markdown",
   "metadata": {},
   "source": [
    "#### 随机初始化\n",
    "- 本阶段不需额外处理，在训练时直接随机初始化embedding\n",
    "- 词向量会在训练时作为参数同步训练"
   ]
  },
  {
   "cell_type": "code",
   "execution_count": 10,
   "metadata": {},
   "outputs": [],
   "source": [
    "data_init_random = Data_init(X_data)"
   ]
  },
  {
   "cell_type": "markdown",
   "metadata": {},
   "source": [
    "#### [Glove](https://nlp.stanford.edu/projects/glove/)\n",
    "- 提供了预训练好的词向量\n",
    "- 需要把词向量对应到自定义的词表中,形成嵌入矩阵\n",
    "- 数据中可能存在没有预训练词向量的单词，需要初始化为全0向量"
   ]
  },
  {
   "cell_type": "code",
   "execution_count": 11,
   "metadata": {},
   "outputs": [],
   "source": [
    "with open('../data/glove.6B.50d.txt','rb') as f:  # for glove embedding\n",
    "    lines=f.readlines()"
   ]
  },
  {
   "cell_type": "code",
   "execution_count": 12,
   "metadata": {},
   "outputs": [
    {
     "data": {
      "text/plain": [
       "b'the'"
      ]
     },
     "execution_count": 12,
     "metadata": {},
     "output_type": "execute_result"
    }
   ],
   "source": [
    "lines[0].split()[0] #单词"
   ]
  },
  {
   "cell_type": "code",
   "execution_count": 13,
   "metadata": {},
   "outputs": [
    {
     "data": {
      "text/plain": [
       "50"
      ]
     },
     "execution_count": 13,
     "metadata": {},
     "output_type": "execute_result"
    }
   ],
   "source": [
    "len(lines[0].split()[1:]) #词向量"
   ]
  },
  {
   "cell_type": "code",
   "execution_count": 14,
   "metadata": {},
   "outputs": [
    {
     "data": {
      "text/plain": [
       "400000"
      ]
     },
     "execution_count": 14,
     "metadata": {},
     "output_type": "execute_result"
    }
   ],
   "source": [
    "glove_dict = {}\n",
    "for line in lines:\n",
    "    line = line.split()\n",
    "    word = line[0].decode(\"utf-8\").lower()\n",
    "    word_vec = line[1:]\n",
    "    glove_dict[word] =  list(map(float,word_vec))\n",
    "len(glove_dict)"
   ]
  },
  {
   "cell_type": "markdown",
   "metadata": {},
   "source": [
    "eg:\n",
    "\n",
    "我的数据初始化后的词表：\n",
    "\n",
    "    { [word]:0,[love]:1,[world]:10,[hosipitality]:17 ...}\n",
    "\n",
    "我需要获得的预训练embedding矩阵 (len(my_vocab) * d)：\n",
    "\n",
    "    [\n",
    "        0:[word vector of **we**]\n",
    "        1:[word vector of **love**]\n",
    "        ...\n",
    "        10:[word vector of **world**]\n",
    "        ...\n",
    "        17:[ 0* dendimension of word vector](because don't have word vector of **hospitality**)\n",
    "        ...\n",
    "    ]"
   ]
  },
  {
   "cell_type": "code",
   "execution_count": 15,
   "metadata": {},
   "outputs": [],
   "source": [
    "data_init = Data_init(X_data,trained_dict=glove_dict,trained_size=50)\n",
    "glove_embed = data_init.get_embed_mat()"
   ]
  },
  {
   "cell_type": "code",
   "execution_count": 16,
   "metadata": {},
   "outputs": [
    {
     "data": {
      "text/plain": [
       "1469"
      ]
     },
     "execution_count": 16,
     "metadata": {},
     "output_type": "execute_result"
    }
   ],
   "source": [
    "len(glove_embed)"
   ]
  },
  {
   "cell_type": "code",
   "execution_count": 17,
   "metadata": {},
   "outputs": [],
   "source": [
    "train_seq = data_init.get_id_seg(X_train) #使用预训练数据初始化不影响句子对应的单词序列的生成\n",
    "test_seq = data_init.get_id_seg(X_test)\n",
    "train_data = dataloader(train_seq,y_train,batch_size=batch_size)\n",
    "test_data = dataloader(test_seq,y_test,batch_size=batch_size)"
   ]
  },
  {
   "cell_type": "markdown",
   "metadata": {},
   "source": [
    "## 模型建立"
   ]
  },
  {
   "cell_type": "code",
   "execution_count": 18,
   "metadata": {},
   "outputs": [],
   "source": [
    "import torch\n",
    "import torch.nn.functional as F\n",
    "from torch import optim"
   ]
  },
  {
   "cell_type": "code",
   "execution_count": 19,
   "metadata": {},
   "outputs": [],
   "source": [
    "import model"
   ]
  },
  {
   "cell_type": "markdown",
   "metadata": {},
   "source": [
    "### [CNN](https://arxiv.org/pdf/1408.5882.pdf)\n",
    "    \n",
    "- 使用4个不同的卷积层提取特征后分别池化，得到4*num_filters的特征\n",
    "- 再经过一个全连接层对应到5个类别"
   ]
  },
  {
   "cell_type": "markdown",
   "metadata": {},
   "source": [
    "CNN2和CNN1实现思路一致，仅代码风格不同，CNN2更简洁，可通过指定kernel_size调整卷积核大小和数目"
   ]
  },
  {
   "cell_type": "code",
   "execution_count": 20,
   "metadata": {},
   "outputs": [],
   "source": [
    "#model_cnn = model.CNN_1(vocab_size=data_init.get_vocab_size(),embed_size=40,dropout_rate=0.4)\n",
    "model_cnn = model.CNN_2(vocab_size=data_init.get_vocab_size(),embed_size=40,kernel_size=[2,3,4,5])"
   ]
  },
  {
   "cell_type": "markdown",
   "metadata": {},
   "source": [
    "### RNN\n",
    "- 取最后一个隐藏层hn作为输出，通过全连接层将其对应到5个类别 ([ref](https://blog.csdn.net/qq_42365109/article/details/115140450))\n",
    "- 文档参考 [nn.RNN](https://blog.csdn.net/xu624735206/article/details/124017563)\n",
    "  - * 要注意输入数据的格式，本代码是[batch_size,l_w]形式，必须使模型batch_first=True"
   ]
  },
  {
   "cell_type": "code",
   "execution_count": 21,
   "metadata": {},
   "outputs": [],
   "source": [
    "# for RNN test\n",
    "import torch\n",
    "import torch.nn as nn\n",
    "from torch import optim"
   ]
  },
  {
   "cell_type": "code",
   "execution_count": 22,
   "metadata": {},
   "outputs": [],
   "source": [
    "vocab_size = 100\n",
    "embed_size = 20\n",
    "hidden_size = 10\n",
    "num_layers = 1\n",
    "num_class =5\n",
    "x = nn.init.xavier_normal_(torch.Tensor(vocab_size, embed_size))\n",
    "embedding = nn.Embedding(num_embeddings=vocab_size, embedding_dim=embed_size, _weight=x)\n",
    "test_rnn = nn.RNN(input_size=embed_size,hidden_size=hidden_size,num_layers=num_layers,batch_first=True)"
   ]
  },
  {
   "cell_type": "code",
   "execution_count": 23,
   "metadata": {},
   "outputs": [
    {
     "name": "stdout",
     "output_type": "stream",
     "text": [
      "After embedding: x shape torch.Size([15, 7, 20])\n"
     ]
    }
   ],
   "source": [
    "fc = nn.Linear(hidden_size,num_class)\n",
    "# x:[batch_size,num_words] -[10,7]\n",
    "x = torch.zeros([15,7],dtype=torch.long)\n",
    "#x:[batch_size,num_words,d]\n",
    "x = embedding(x)\n",
    "print('After embedding: x shape',x.shape)"
   ]
  },
  {
   "cell_type": "code",
   "execution_count": 24,
   "metadata": {},
   "outputs": [
    {
     "name": "stdout",
     "output_type": "stream",
     "text": [
      "Trough RNN output shapetorch.Size([15, 7, 10]) ,hn shape torch.Size([1, 15, 10])\n",
      "Final: out shape torch.Size([15, 5])\n"
     ]
    }
   ],
   "source": [
    "#output:[batch_size,num_words,l_h] ht:[1,batch_size,l_h]\n",
    "output , hn =test_rnn(x)\n",
    "print('Trough RNN output shape{} ,hn shape {}'.format(output.shape,hn.shape))\n",
    "#out[1,batch_size,5] ->[batch_size,5]\n",
    "out = fc(hn).squeeze(0)\n",
    "print('Final: out shape',out.shape)\n"
   ]
  },
  {
   "cell_type": "code",
   "execution_count": 25,
   "metadata": {},
   "outputs": [],
   "source": [
    "model_rnn = model.RNN(vocab_size=data_init.get_vocab_size(),embed_size=50,hidden_size=50,weight=torch.tensor(glove_embed),\n",
    "                      dropout_rate=0)"
   ]
  },
  {
   "cell_type": "markdown",
   "metadata": {},
   "source": [
    "### LSTM\n",
    "- 思路和RNN一样，模型中增加了可以双向的选项（还未测试\n",
    "- 文档参考 [nn.LSTM](https://blog.csdn.net/m0_45478865/article/details/104455978)"
   ]
  },
  {
   "cell_type": "code",
   "execution_count": 26,
   "metadata": {},
   "outputs": [],
   "source": [
    "# for lstm test\n",
    "vocab_size = 100\n",
    "embed_size = 20\n",
    "hidden_size = 10\n",
    "num_layers = 1\n",
    "num_class =5\n",
    "w = nn.init.xavier_normal_(torch.Tensor(vocab_size, embed_size))\n",
    "embedding = nn.Embedding(num_embeddings=vocab_size, embedding_dim=embed_size, _weight=w)\n",
    "test_lstm = nn.LSTM(input_size=embed_size,hidden_size=hidden_size,num_layers=num_layers,batch_first=True,)\n",
    "fc = nn.Linear(hidden_size,num_class)"
   ]
  },
  {
   "cell_type": "code",
   "execution_count": 27,
   "metadata": {},
   "outputs": [
    {
     "name": "stdout",
     "output_type": "stream",
     "text": [
      "After embedding: x shape torch.Size([15, 7, 20])\n",
      "Trough LSTM output shape torch.Size([15, 7, 10]) ,hn shape torch.Size([1, 15, 10]) ,cn shape torch.Size([1, 15, 10])\n",
      "Final: out shape torch.Size([15, 5])\n"
     ]
    }
   ],
   "source": [
    "#x:[batch_size,num_words]\n",
    "x = torch.zeros([15,7],dtype=torch.long)\n",
    "x_embed = embedding(x)\n",
    "print('After embedding: x shape',x_embed.shape)\n",
    "#output:[batch_size,num_words,l_h] hn,cn:[1,batch_size,l_h] \n",
    "output,(hn,cn) = test_lstm(x_embed)\n",
    "print('Trough LSTM output shape {} ,hn shape {} ,cn shape {}'.format(output.shape,hn.shape,cn.shape))\n",
    "out = fc(hn).squeeze(0)\n",
    "print('Final: out shape',out.shape)"
   ]
  },
  {
   "cell_type": "code",
   "execution_count": 28,
   "metadata": {},
   "outputs": [],
   "source": [
    "model_lstm=model.LSTM(vocab_size=data_init.get_vocab_size(),embed_size=50,hidden_size=50,weight=torch.tensor(glove_embed))"
   ]
  },
  {
   "cell_type": "markdown",
   "metadata": {},
   "source": [
    "## 训练 & 测试"
   ]
  },
  {
   "cell_type": "code",
   "execution_count": 29,
   "metadata": {},
   "outputs": [],
   "source": [
    "epoches = 10\n",
    "learning_rate = 0.01\n",
    "train_dataloader = train_data\n",
    "test_dataloader = test_data"
   ]
  },
  {
   "cell_type": "code",
   "execution_count": 30,
   "metadata": {},
   "outputs": [],
   "source": [
    "#record\n",
    "train_loss_history = []\n",
    "test_loss_history = []\n",
    "#accurancy\n",
    "train_acc_history = []\n",
    "test_acc_history = []"
   ]
  },
  {
   "cell_type": "code",
   "execution_count": 31,
   "metadata": {},
   "outputs": [],
   "source": [
    "def Train(model):\n",
    "    #优化器\n",
    "    optimizer = optim.Adam(model.parameters(),lr=learning_rate)\n",
    "    #loss 交叉熵\n",
    "    loss_fn = F.cross_entropy\n",
    "\n",
    "    #start train\n",
    "    for epoch in range(epoches):\n",
    "        #print(epoch)\n",
    "        model.train()\n",
    "        for step,batch in enumerate(train_dataloader):\n",
    "            x,y = batch\n",
    "            probs = model(x)\n",
    "            optimizer.zero_grad() #梯度初始化\n",
    "            loss = loss_fn(probs,y)\n",
    "            loss.backward()\n",
    "            optimizer.step()\n",
    "        \n",
    "        #evaluating\n",
    "        model.eval()\n",
    "        with torch.no_grad():\n",
    "            tr_loss = 0\n",
    "            tr_acc = 0\n",
    "            for i, batch in enumerate(train_dataloader):\n",
    "                x,y = batch\n",
    "                pred = model(x)\n",
    "                tr_loss += loss_fn(pred,y).item()\n",
    "                tr_acc = torch.mean((torch.tensor(pred.argmax(1) == y,dtype=torch.float)))\n",
    "            train_loss_history.append(tr_loss)\n",
    "            train_acc_history.append(tr_acc)\n",
    "\n",
    "        #predicting\n",
    "        model.eval()\n",
    "        with torch.no_grad():\n",
    "            te_loss = 0\n",
    "            te_acc = 0\n",
    "            for i , batch in enumerate(test_dataloader):\n",
    "                x,y =batch\n",
    "                pred = model(x)\n",
    "                te_loss += loss_fn(pred,y).item()\n",
    "                te_acc = torch.mean((torch.tensor(pred.argmax(1) == y,dtype=torch.float)))\n",
    "            test_loss_history.append(te_loss)\n",
    "            test_acc_history.append(te_acc)\n",
    "\n",
    "        if (epoch+1)%10 == 0:\n",
    "            print(\"------------epoch:{}-------------\".format(epoch+1))\n",
    "            print(\"LOSS:train_loss:{},test_loss:{}\".format(tr_loss,te_loss))\n",
    "            print(\"ACC:train_acc:{},test_acc:{}\".format(tr_acc,te_acc))"
   ]
  },
  {
   "cell_type": "code",
   "execution_count": 34,
   "metadata": {},
   "outputs": [
    {
     "name": "stderr",
     "output_type": "stream",
     "text": [
      "C:\\Users\\pc\\AppData\\Local\\Temp\\ipykernel_13168\\477542134.py:28: UserWarning: To copy construct from a tensor, it is recommended to use sourceTensor.clone().detach() or sourceTensor.clone().detach().requires_grad_(True), rather than torch.tensor(sourceTensor).\n",
      "  tr_acc = torch.mean((torch.tensor(pred.argmax(1) == y,dtype=torch.float)))\n",
      "C:\\Users\\pc\\AppData\\Local\\Temp\\ipykernel_13168\\477542134.py:41: UserWarning: To copy construct from a tensor, it is recommended to use sourceTensor.clone().detach() or sourceTensor.clone().detach().requires_grad_(True), rather than torch.tensor(sourceTensor).\n",
      "  te_acc = torch.mean((torch.tensor(pred.argmax(1) == y,dtype=torch.float)))\n"
     ]
    },
    {
     "name": "stdout",
     "output_type": "stream",
     "text": [
      "------------epoch:10-------------\n",
      "LOSS:train_loss:56.028748233915394,test_loss:212.23913085460663\n",
      "ACC:train_acc:0.800000011920929,test_acc:0.5\n"
     ]
    }
   ],
   "source": [
    "Train(model_lstm)"
   ]
  },
  {
   "cell_type": "code",
   "execution_count": null,
   "metadata": {},
   "outputs": [],
   "source": [
    "import matplotlib.pyplot as plt"
   ]
  },
  {
   "cell_type": "code",
   "execution_count": null,
   "metadata": {},
   "outputs": [
    {
     "data": {
      "text/plain": [
       "<matplotlib.legend.Legend at 0x24311b35b50>"
      ]
     },
     "execution_count": 38,
     "metadata": {},
     "output_type": "execute_result"
    },
    {
     "data": {
      "image/png": "[encoded data removed]",
      "text/plain": [
       "<Figure size 640x480 with 1 Axes>"
      ]
     },
     "metadata": {},
     "output_type": "display_data"
    }
   ],
   "source": [
    "x=list(range(1,epoches+1))\n",
    "plt.plot(x, train_loss_history, 'r--', label='train')\n",
    "plt.plot(x, test_loss_history, 'g--', label='test')\n",
    "plt.legend()"
   ]
  }
 ],
 "metadata": {
  "kernelspec": {
   "display_name": "Python 3.8.12 ('base')",
   "language": "python",
   "name": "python3"
  },
  "language_info": {
   "codemirror_mode": {
    "name": "ipython",
    "version": 3
   },
   "file_extension": ".py",
   "mimetype": "text/x-python",
   "name": "python",
   "nbconvert_exporter": "python",
   "pygments_lexer": "ipython3",
   "version": "3.8.12"
  },
  "orig_nbformat": 4,
  "vscode": {
   "interpreter": {
    "hash": "16f5b46f222e2a3e8d4adbf7141cae37b71ed37616e60735fa5d1164a1bc3ada"
   }
  }
 },
 "nbformat": 4,
 "nbformat_minor": 2
}
